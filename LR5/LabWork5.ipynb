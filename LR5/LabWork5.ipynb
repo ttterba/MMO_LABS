{
 "cells": [
  {
   "cell_type": "markdown",
   "metadata": {},
   "source": [
    "# Лабораторная работа 5. Разработка единого шаблона предварительной обработки данных"
   ]
  },
  {
   "cell_type": "markdown",
   "metadata": {},
   "source": [
    "## Подключение библиотек"
   ]
  },
  {
   "cell_type": "code",
   "execution_count": 8,
   "metadata": {
    "ExecuteTime": {
     "end_time": "2022-09-01T13:39:41.276470Z",
     "start_time": "2022-09-01T13:38:41.501192Z"
    }
   },
   "outputs": [],
   "source": [
    "import numpy as np\n",
    "import matplotlib.pyplot as plt\n",
    "import pandas as pd"
   ]
  },
  {
   "cell_type": "markdown",
   "metadata": {},
   "source": [
    "## Загрузка данных и разделение на матрицу признаков и зависимую переменную"
   ]
  },
  {
   "cell_type": "code",
   "execution_count": 23,
   "metadata": {
    "ExecuteTime": {
     "end_time": "2022-09-01T13:53:50.245007Z",
     "start_time": "2022-09-01T13:53:50.233000Z"
    }
   },
   "outputs": [
    {
     "data": {
      "text/html": [
       "<div>\n",
       "<style scoped>\n",
       "    .dataframe tbody tr th:only-of-type {\n",
       "        vertical-align: middle;\n",
       "    }\n",
       "\n",
       "    .dataframe tbody tr th {\n",
       "        vertical-align: top;\n",
       "    }\n",
       "\n",
       "    .dataframe thead th {\n",
       "        text-align: right;\n",
       "    }\n",
       "</style>\n",
       "<table border=\"1\" class=\"dataframe\">\n",
       "  <thead>\n",
       "    <tr style=\"text-align: right;\">\n",
       "      <th></th>\n",
       "      <th>Gender</th>\n",
       "      <th>Expirience years</th>\n",
       "      <th>Age</th>\n",
       "      <th>Has car accident this year</th>\n",
       "    </tr>\n",
       "  </thead>\n",
       "  <tbody>\n",
       "    <tr>\n",
       "      <th>0</th>\n",
       "      <td>male</td>\n",
       "      <td>1.0</td>\n",
       "      <td>21.0</td>\n",
       "      <td>Yes</td>\n",
       "    </tr>\n",
       "    <tr>\n",
       "      <th>1</th>\n",
       "      <td>male</td>\n",
       "      <td>13.0</td>\n",
       "      <td>38.0</td>\n",
       "      <td>No</td>\n",
       "    </tr>\n",
       "    <tr>\n",
       "      <th>2</th>\n",
       "      <td>female</td>\n",
       "      <td>4.0</td>\n",
       "      <td>23.0</td>\n",
       "      <td>Yes</td>\n",
       "    </tr>\n",
       "    <tr>\n",
       "      <th>3</th>\n",
       "      <td>male</td>\n",
       "      <td>NaN</td>\n",
       "      <td>39.0</td>\n",
       "      <td>No</td>\n",
       "    </tr>\n",
       "    <tr>\n",
       "      <th>4</th>\n",
       "      <td>female</td>\n",
       "      <td>8.0</td>\n",
       "      <td>44.0</td>\n",
       "      <td>No</td>\n",
       "    </tr>\n",
       "  </tbody>\n",
       "</table>\n",
       "</div>"
      ],
      "text/plain": [
       "   Gender  Expirience years   Age Has car accident this year\n",
       "0    male               1.0  21.0                        Yes\n",
       "1    male              13.0  38.0                         No\n",
       "2  female               4.0  23.0                        Yes\n",
       "3    male               NaN  39.0                         No\n",
       "4  female               8.0  44.0                         No"
      ]
     },
     "execution_count": 23,
     "metadata": {},
     "output_type": "execute_result"
    }
   ],
   "source": [
    "dataset = pd.read_csv('car_accident.csv')\n",
    "dataset.head()"
   ]
  },
  {
   "cell_type": "code",
   "execution_count": 24,
   "metadata": {
    "ExecuteTime": {
     "end_time": "2022-09-01T13:56:05.100222Z",
     "start_time": "2022-09-01T13:56:05.094217Z"
    },
    "scrolled": true
   },
   "outputs": [
    {
     "name": "stdout",
     "output_type": "stream",
     "text": [
      "Матрица признаков\n",
      "[['male' 1.0 21.0]\n",
      " ['male' 13.0 38.0]\n",
      " ['female' 4.0 23.0]\n",
      " ['male' nan 39.0]\n",
      " ['female' 8.0 44.0]\n",
      " ['female' 3.0 32.0]\n",
      " ['male' 12.0 nan]\n",
      " ['female' 2.0 34.0]\n",
      " ['female' 25.0 50.0]\n",
      " ['male' 24.0 61.0]]\n",
      "Зависимая переменная\n",
      "['Yes' 'No' 'Yes' 'No' 'No' 'No' 'Yes' 'Yes' 'No' 'Yes']\n"
     ]
    }
   ],
   "source": [
    "X = dataset.iloc[:, :-1].values\n",
    "y = dataset.iloc[:, 3].values\n",
    "print (\"Матрица признаков\"); print(X)\n",
    "print (\"Зависимая переменная\"); print(y)"
   ]
  },
  {
   "cell_type": "markdown",
   "metadata": {},
   "source": [
    "### 3. Обработка пропущенных значений"
   ]
  },
  {
   "cell_type": "code",
   "execution_count": 9,
   "metadata": {
    "ExecuteTime": {
     "end_time": "2022-09-01T13:56:07.540102Z",
     "start_time": "2022-09-01T13:56:07.534099Z"
    }
   },
   "outputs": [
    {
     "ename": "ImportError",
     "evalue": "cannot import name 'Imputer' from 'sklearn.preprocessing' (D:\\anaconda3\\lib\\site-packages\\sklearn\\preprocessing\\__init__.py)",
     "output_type": "error",
     "traceback": [
      "\u001b[1;31m---------------------------------------------------------------------------\u001b[0m",
      "\u001b[1;31mImportError\u001b[0m                               Traceback (most recent call last)",
      "Input \u001b[1;32mIn [9]\u001b[0m, in \u001b[0;36m<cell line: 2>\u001b[1;34m()\u001b[0m\n\u001b[0;32m      1\u001b[0m \u001b[38;5;66;03m# устаревший подход\u001b[39;00m\n\u001b[1;32m----> 2\u001b[0m \u001b[38;5;28;01mfrom\u001b[39;00m \u001b[38;5;21;01msklearn\u001b[39;00m\u001b[38;5;21;01m.\u001b[39;00m\u001b[38;5;21;01mpreprocessing\u001b[39;00m \u001b[38;5;28;01mimport\u001b[39;00m Imputer\n\u001b[0;32m      3\u001b[0m imputer \u001b[38;5;241m=\u001b[39m Imputer(missing_values \u001b[38;5;241m=\u001b[39m \u001b[38;5;124m'\u001b[39m\u001b[38;5;124mNaN\u001b[39m\u001b[38;5;124m'\u001b[39m, strategy \u001b[38;5;241m=\u001b[39m \u001b[38;5;124m'\u001b[39m\u001b[38;5;124mmean\u001b[39m\u001b[38;5;124m'\u001b[39m, axis \u001b[38;5;241m=\u001b[39m \u001b[38;5;241m0\u001b[39m)\n\u001b[0;32m      4\u001b[0m imputer \u001b[38;5;241m=\u001b[39m imputer\u001b[38;5;241m.\u001b[39mfit(X[:, \u001b[38;5;241m1\u001b[39m:\u001b[38;5;241m3\u001b[39m])\n",
      "\u001b[1;31mImportError\u001b[0m: cannot import name 'Imputer' from 'sklearn.preprocessing' (D:\\anaconda3\\lib\\site-packages\\sklearn\\preprocessing\\__init__.py)"
     ]
    }
   ],
   "source": [
    "# устаревший подход\n",
    "from sklearn.preprocessing import Imputer\n",
    "imputer = Imputer(missing_values = 'NaN', strategy = 'mean', axis = 0)\n",
    "imputer = imputer.fit(X[:, 1:3])\n",
    "X_without_nan = X.copy()\n",
    "X_without_nan[:, 1:3] = imputer.transform(X[:, 1:3])\n",
    "print(X_without_nan)"
   ]
  },
  {
   "cell_type": "code",
   "execution_count": 25,
   "metadata": {
    "ExecuteTime": {
     "end_time": "2022-09-01T13:56:37.588899Z",
     "start_time": "2022-09-01T13:56:37.582895Z"
    }
   },
   "outputs": [
    {
     "data": {
      "text/plain": [
       "array([['male', 1.0, 21.0],\n",
       "       ['male', 13.0, 38.0],\n",
       "       ['female', 4.0, 23.0],\n",
       "       ['male', 10.222222222222221, 39.0],\n",
       "       ['female', 8.0, 44.0],\n",
       "       ['female', 3.0, 32.0],\n",
       "       ['male', 12.0, 38.0],\n",
       "       ['female', 2.0, 34.0],\n",
       "       ['female', 25.0, 50.0],\n",
       "       ['male', 24.0, 61.0]], dtype=object)"
      ]
     },
     "execution_count": 25,
     "metadata": {},
     "output_type": "execute_result"
    }
   ],
   "source": [
    "# Новая версия класса-трансформера, предыдущая Imputer - устарела\n",
    "from sklearn.impute import SimpleImputer\n",
    "imputer = SimpleImputer(missing_values = np.nan, strategy = 'mean')\n",
    "imputer = imputer.fit(X[:, 1:3])\n",
    "X_without_nan = X.copy()\n",
    "X_without_nan[:, 1:3] = imputer.transform(X[:, 1:4])\n",
    "X_without_nan"
   ]
  },
  {
   "cell_type": "markdown",
   "metadata": {},
   "source": [
    "### 4. Обработка категориальных данных"
   ]
  },
  {
   "cell_type": "markdown",
   "metadata": {},
   "source": [
    "#### 4.1 Замена категории кодом (LabelEncoder)"
   ]
  },
  {
   "cell_type": "code",
   "execution_count": 26,
   "metadata": {
    "ExecuteTime": {
     "end_time": "2022-09-01T13:56:52.466944Z",
     "start_time": "2022-09-01T13:56:52.462942Z"
    }
   },
   "outputs": [
    {
     "name": "stdout",
     "output_type": "stream",
     "text": [
      "Зависимая переменная до обработки\n",
      "['Yes' 'No' 'Yes' 'No' 'No' 'No' 'Yes' 'Yes' 'No' 'Yes']\n",
      "Зависимая переменная после обработки\n",
      "[1 0 1 0 0 0 1 1 0 1]\n"
     ]
    }
   ],
   "source": [
    "from sklearn.preprocessing import LabelEncoder\n",
    "labelencoder_y = LabelEncoder()\n",
    "print(\"Зависимая переменная до обработки\")\n",
    "print(y)\n",
    "y = labelencoder_y.fit_transform(y)\n",
    "print(\"Зависимая переменная после обработки\")\n",
    "print(y)"
   ]
  },
  {
   "cell_type": "markdown",
   "metadata": {},
   "source": [
    "#### 4.2 Применение OneHotEncoder"
   ]
  },
  {
   "cell_type": "code",
   "execution_count": 28,
   "metadata": {
    "ExecuteTime": {
     "end_time": "2022-09-01T13:58:32.175303Z",
     "start_time": "2022-09-01T13:58:32.166297Z"
    },
    "scrolled": true
   },
   "outputs": [
    {
     "name": "stdout",
     "output_type": "stream",
     "text": [
      "Перекодировка категориального признака\n",
      "[[0. 1. 1. 0. 0. 0. 0. 0. 0. 0. 0. 0. 1. 0. 0. 0. 0. 0. 0. 0. 0.]\n",
      " [0. 1. 0. 0. 0. 0. 0. 0. 0. 1. 0. 0. 0. 0. 0. 0. 1. 0. 0. 0. 0.]\n",
      " [1. 0. 0. 0. 0. 1. 0. 0. 0. 0. 0. 0. 0. 1. 0. 0. 0. 0. 0. 0. 0.]\n",
      " [0. 1. 0. 0. 0. 0. 0. 1. 0. 0. 0. 0. 0. 0. 0. 0. 0. 1. 0. 0. 0.]\n",
      " [1. 0. 0. 0. 0. 0. 1. 0. 0. 0. 0. 0. 0. 0. 0. 0. 0. 0. 1. 0. 0.]\n",
      " [1. 0. 0. 0. 1. 0. 0. 0. 0. 0. 0. 0. 0. 0. 1. 0. 0. 0. 0. 0. 0.]\n",
      " [0. 1. 0. 0. 0. 0. 0. 0. 1. 0. 0. 0. 0. 0. 0. 0. 1. 0. 0. 0. 0.]\n",
      " [1. 0. 0. 1. 0. 0. 0. 0. 0. 0. 0. 0. 0. 0. 0. 1. 0. 0. 0. 0. 0.]\n",
      " [1. 0. 0. 0. 0. 0. 0. 0. 0. 0. 0. 1. 0. 0. 0. 0. 0. 0. 0. 1. 0.]\n",
      " [0. 1. 0. 0. 0. 0. 0. 0. 0. 0. 1. 0. 0. 0. 0. 0. 0. 0. 0. 0. 1.]]\n"
     ]
    }
   ],
   "source": [
    "# устаревший подход к использованию OneHotEncoder\n",
    "from sklearn.preprocessing import OneHotEncoder\n",
    "labelencoder_X = LabelEncoder()\n",
    "labelencoder_X.fit_transform(X[:, 0])\n",
    "X_encoded = X_without_nan.copy()\n",
    "X_encoded[:, 0] = labelencoder_X.fit_transform(X_encoded[:, 0])\n",
    "onehotencoder = OneHotEncoder()\n",
    "X_encoded = onehotencoder.fit_transform(X_encoded).toarray()\n",
    "print(\"Перекодировка категориального признака\")\n",
    "print(X_encoded)"
   ]
  },
  {
   "cell_type": "code",
   "execution_count": 29,
   "metadata": {
    "ExecuteTime": {
     "end_time": "2022-09-01T14:12:54.765078Z",
     "start_time": "2022-09-01T14:12:54.760075Z"
    }
   },
   "outputs": [
    {
     "data": {
      "text/plain": [
       "array([['male', 1.0, 21.0],\n",
       "       ['male', 13.0, 38.0],\n",
       "       ['female', 4.0, 23.0],\n",
       "       ['male', nan, 39.0],\n",
       "       ['female', 8.0, 44.0],\n",
       "       ['female', 3.0, 32.0],\n",
       "       ['male', 12.0, nan],\n",
       "       ['female', 2.0, 34.0],\n",
       "       ['female', 25.0, 50.0],\n",
       "       ['male', 24.0, 61.0]], dtype=object)"
      ]
     },
     "execution_count": 29,
     "metadata": {},
     "output_type": "execute_result"
    }
   ],
   "source": [
    "# создаем копию \"грязного\" объекта: спропусками и некодированными категориями\n",
    "X_dirty = X.copy()\n",
    "X_dirty"
   ]
  },
  {
   "cell_type": "code",
   "execution_count": 30,
   "metadata": {
    "ExecuteTime": {
     "end_time": "2022-09-01T14:21:47.502887Z",
     "start_time": "2022-09-01T14:21:47.492881Z"
    }
   },
   "outputs": [
    {
     "name": "stdout",
     "output_type": "stream",
     "text": [
      "(10, 4)\n"
     ]
    },
    {
     "data": {
      "text/plain": [
       "array([[ 0.        ,  1.        ,  1.        , 21.        ],\n",
       "       [ 0.        ,  1.        , 13.        , 38.        ],\n",
       "       [ 1.        ,  0.        ,  4.        , 23.        ],\n",
       "       [ 0.        ,  1.        , 10.22222222, 39.        ],\n",
       "       [ 1.        ,  0.        ,  8.        , 44.        ],\n",
       "       [ 1.        ,  0.        ,  3.        , 32.        ],\n",
       "       [ 0.        ,  1.        , 12.        , 38.        ],\n",
       "       [ 1.        ,  0.        ,  2.        , 34.        ],\n",
       "       [ 1.        ,  0.        , 25.        , 50.        ],\n",
       "       [ 0.        ,  1.        , 24.        , 61.        ]])"
      ]
     },
     "execution_count": 30,
     "metadata": {},
     "output_type": "execute_result"
    }
   ],
   "source": [
    "# Современный метод трансформации признаков\n",
    "from sklearn.preprocessing import OneHotEncoder\n",
    "from sklearn.impute import SimpleImputer\n",
    "from sklearn.compose import ColumnTransformer\n",
    "\n",
    "# создаем список трансформеров\n",
    "transformers = [\n",
    "    ('onehot', OneHotEncoder(), [0]),\n",
    "    ('imp', SimpleImputer(), [1, 2])\n",
    "]\n",
    "\n",
    "# Создаем объект ColumnTransformer и передаем ему список трансформеров\n",
    "ct = ColumnTransformer(transformers)\n",
    "\n",
    "# Выполняем трансформацию признаков\n",
    "X_transformed = ct.fit_transform(X_dirty)\n",
    "print(X_transformed.shape)\n",
    "X_transformed"
   ]
  },
  {
   "cell_type": "code",
   "execution_count": 34,
   "metadata": {
    "ExecuteTime": {
     "end_time": "2022-09-01T14:34:48.966236Z",
     "start_time": "2022-09-01T14:34:48.954230Z"
    }
   },
   "outputs": [
    {
     "data": {
      "text/html": [
       "<div>\n",
       "<style scoped>\n",
       "    .dataframe tbody tr th:only-of-type {\n",
       "        vertical-align: middle;\n",
       "    }\n",
       "\n",
       "    .dataframe tbody tr th {\n",
       "        vertical-align: top;\n",
       "    }\n",
       "\n",
       "    .dataframe thead th {\n",
       "        text-align: right;\n",
       "    }\n",
       "</style>\n",
       "<table border=\"1\" class=\"dataframe\">\n",
       "  <thead>\n",
       "    <tr style=\"text-align: right;\">\n",
       "      <th></th>\n",
       "      <th>C1</th>\n",
       "      <th>C2</th>\n",
       "      <th>Experience years</th>\n",
       "      <th>Age</th>\n",
       "    </tr>\n",
       "  </thead>\n",
       "  <tbody>\n",
       "    <tr>\n",
       "      <th>0</th>\n",
       "      <td>0.0</td>\n",
       "      <td>1.0</td>\n",
       "      <td>1.000000</td>\n",
       "      <td>21.0</td>\n",
       "    </tr>\n",
       "    <tr>\n",
       "      <th>1</th>\n",
       "      <td>0.0</td>\n",
       "      <td>1.0</td>\n",
       "      <td>13.000000</td>\n",
       "      <td>38.0</td>\n",
       "    </tr>\n",
       "    <tr>\n",
       "      <th>2</th>\n",
       "      <td>1.0</td>\n",
       "      <td>0.0</td>\n",
       "      <td>4.000000</td>\n",
       "      <td>23.0</td>\n",
       "    </tr>\n",
       "    <tr>\n",
       "      <th>3</th>\n",
       "      <td>0.0</td>\n",
       "      <td>1.0</td>\n",
       "      <td>10.222222</td>\n",
       "      <td>39.0</td>\n",
       "    </tr>\n",
       "    <tr>\n",
       "      <th>4</th>\n",
       "      <td>1.0</td>\n",
       "      <td>0.0</td>\n",
       "      <td>8.000000</td>\n",
       "      <td>44.0</td>\n",
       "    </tr>\n",
       "    <tr>\n",
       "      <th>5</th>\n",
       "      <td>1.0</td>\n",
       "      <td>0.0</td>\n",
       "      <td>3.000000</td>\n",
       "      <td>32.0</td>\n",
       "    </tr>\n",
       "    <tr>\n",
       "      <th>6</th>\n",
       "      <td>0.0</td>\n",
       "      <td>1.0</td>\n",
       "      <td>12.000000</td>\n",
       "      <td>38.0</td>\n",
       "    </tr>\n",
       "    <tr>\n",
       "      <th>7</th>\n",
       "      <td>1.0</td>\n",
       "      <td>0.0</td>\n",
       "      <td>2.000000</td>\n",
       "      <td>34.0</td>\n",
       "    </tr>\n",
       "    <tr>\n",
       "      <th>8</th>\n",
       "      <td>1.0</td>\n",
       "      <td>0.0</td>\n",
       "      <td>25.000000</td>\n",
       "      <td>50.0</td>\n",
       "    </tr>\n",
       "    <tr>\n",
       "      <th>9</th>\n",
       "      <td>0.0</td>\n",
       "      <td>1.0</td>\n",
       "      <td>24.000000</td>\n",
       "      <td>61.0</td>\n",
       "    </tr>\n",
       "  </tbody>\n",
       "</table>\n",
       "</div>"
      ],
      "text/plain": [
       "    C1   C2  Experience years   Age\n",
       "0  0.0  1.0          1.000000  21.0\n",
       "1  0.0  1.0         13.000000  38.0\n",
       "2  1.0  0.0          4.000000  23.0\n",
       "3  0.0  1.0         10.222222  39.0\n",
       "4  1.0  0.0          8.000000  44.0\n",
       "5  1.0  0.0          3.000000  32.0\n",
       "6  0.0  1.0         12.000000  38.0\n",
       "7  1.0  0.0          2.000000  34.0\n",
       "8  1.0  0.0         25.000000  50.0\n",
       "9  0.0  1.0         24.000000  61.0"
      ]
     },
     "execution_count": 34,
     "metadata": {},
     "output_type": "execute_result"
    }
   ],
   "source": [
    "# Можно преобразовать полученный многомерный массив обратно в Dataframe\n",
    "X_data = pd.DataFrame(\n",
    "    X_transformed, \n",
    "    columns=['C1', 'C2', 'Experience years', 'Age'])\n",
    "X_data"
   ]
  },
  {
   "cell_type": "code",
   "execution_count": null,
   "metadata": {},
   "outputs": [],
   "source": []
  }
 ],
 "metadata": {
  "kernelspec": {
   "display_name": "Python 3 (ipykernel)",
   "language": "python",
   "name": "python3"
  },
  "language_info": {
   "codemirror_mode": {
    "name": "ipython",
    "version": 3
   },
   "file_extension": ".py",
   "mimetype": "text/x-python",
   "name": "python",
   "nbconvert_exporter": "python",
   "pygments_lexer": "ipython3",
   "version": "3.9.12"
  },
  "toc": {
   "base_numbering": 1,
   "nav_menu": {},
   "number_sections": true,
   "sideBar": true,
   "skip_h1_title": false,
   "title_cell": "Table of Contents",
   "title_sidebar": "Contents",
   "toc_cell": false,
   "toc_position": {},
   "toc_section_display": true,
   "toc_window_display": false
  }
 },
 "nbformat": 4,
 "nbformat_minor": 2
}
